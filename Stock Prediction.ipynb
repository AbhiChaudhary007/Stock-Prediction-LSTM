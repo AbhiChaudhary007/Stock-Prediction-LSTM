{
 "cells": [
  {
   "cell_type": "code",
   "execution_count": 192,
   "metadata": {
    "ExecuteTime": {
     "end_time": "2021-05-14T12:46:34.293954Z",
     "start_time": "2021-05-14T12:46:34.276999Z"
    }
   },
   "outputs": [],
   "source": [
    "import pandas_datareader as pdr\n",
    "import pandas as pd\n",
    "import numpy as np\n",
    "from sklearn.preprocessing import MinMaxScaler\n",
    "from tensorflow.keras.models import Sequential\n",
    "from tensorflow.keras.layers import Dense,Flatten,Dropout,LSTM\n",
    "from sklearn.metrics import mean_squared_error,r2_score\n",
    "import math"
   ]
  },
  {
   "cell_type": "code",
   "execution_count": 5,
   "metadata": {
    "ExecuteTime": {
     "end_time": "2021-05-14T10:14:48.151462Z",
     "start_time": "2021-05-14T10:14:46.263156Z"
    }
   },
   "outputs": [],
   "source": [
    "data = pdr.get_data_tiingo('AAPL', api_key = 'ef9f83b5eb2c88c6717b0ffd4ca55e8ab654395a')"
   ]
  },
  {
   "cell_type": "code",
   "execution_count": 9,
   "metadata": {
    "ExecuteTime": {
     "end_time": "2021-05-14T10:15:58.780598Z",
     "start_time": "2021-05-14T10:15:58.740361Z"
    }
   },
   "outputs": [],
   "source": [
    "data.to_csv('Stock.csv')"
   ]
  },
  {
   "cell_type": "code",
   "execution_count": 11,
   "metadata": {
    "ExecuteTime": {
     "end_time": "2021-05-14T10:16:24.108999Z",
     "start_time": "2021-05-14T10:16:24.047280Z"
    }
   },
   "outputs": [],
   "source": [
    "data = pd.read_csv('Stock.csv')"
   ]
  },
  {
   "cell_type": "code",
   "execution_count": 13,
   "metadata": {
    "ExecuteTime": {
     "end_time": "2021-05-14T10:16:35.880712Z",
     "start_time": "2021-05-14T10:16:35.871743Z"
    }
   },
   "outputs": [
    {
     "data": {
      "text/plain": [
       "(1258, 14)"
      ]
     },
     "execution_count": 13,
     "metadata": {},
     "output_type": "execute_result"
    }
   ],
   "source": [
    "data.shape"
   ]
  },
  {
   "cell_type": "code",
   "execution_count": 14,
   "metadata": {
    "ExecuteTime": {
     "end_time": "2021-05-14T10:16:44.621577Z",
     "start_time": "2021-05-14T10:16:44.594648Z"
    }
   },
   "outputs": [
    {
     "data": {
      "text/html": [
       "<div>\n",
       "<style scoped>\n",
       "    .dataframe tbody tr th:only-of-type {\n",
       "        vertical-align: middle;\n",
       "    }\n",
       "\n",
       "    .dataframe tbody tr th {\n",
       "        vertical-align: top;\n",
       "    }\n",
       "\n",
       "    .dataframe thead th {\n",
       "        text-align: right;\n",
       "    }\n",
       "</style>\n",
       "<table border=\"1\" class=\"dataframe\">\n",
       "  <thead>\n",
       "    <tr style=\"text-align: right;\">\n",
       "      <th></th>\n",
       "      <th>symbol</th>\n",
       "      <th>date</th>\n",
       "      <th>close</th>\n",
       "      <th>high</th>\n",
       "      <th>low</th>\n",
       "      <th>open</th>\n",
       "      <th>volume</th>\n",
       "      <th>adjClose</th>\n",
       "      <th>adjHigh</th>\n",
       "      <th>adjLow</th>\n",
       "      <th>adjOpen</th>\n",
       "      <th>adjVolume</th>\n",
       "      <th>divCash</th>\n",
       "      <th>splitFactor</th>\n",
       "    </tr>\n",
       "  </thead>\n",
       "  <tbody>\n",
       "    <tr>\n",
       "      <th>0</th>\n",
       "      <td>AAPL</td>\n",
       "      <td>2016-05-16 00:00:00+00:00</td>\n",
       "      <td>93.88</td>\n",
       "      <td>94.39</td>\n",
       "      <td>91.65</td>\n",
       "      <td>92.39</td>\n",
       "      <td>61259756</td>\n",
       "      <td>21.922242</td>\n",
       "      <td>22.041334</td>\n",
       "      <td>21.401507</td>\n",
       "      <td>21.574307</td>\n",
       "      <td>245039024</td>\n",
       "      <td>0.0</td>\n",
       "      <td>1.0</td>\n",
       "    </tr>\n",
       "    <tr>\n",
       "      <th>1</th>\n",
       "      <td>AAPL</td>\n",
       "      <td>2016-05-17 00:00:00+00:00</td>\n",
       "      <td>93.49</td>\n",
       "      <td>94.70</td>\n",
       "      <td>93.01</td>\n",
       "      <td>94.55</td>\n",
       "      <td>46916939</td>\n",
       "      <td>21.831172</td>\n",
       "      <td>22.113724</td>\n",
       "      <td>21.719086</td>\n",
       "      <td>22.078696</td>\n",
       "      <td>187667756</td>\n",
       "      <td>0.0</td>\n",
       "      <td>1.0</td>\n",
       "    </tr>\n",
       "    <tr>\n",
       "      <th>2</th>\n",
       "      <td>AAPL</td>\n",
       "      <td>2016-05-18 00:00:00+00:00</td>\n",
       "      <td>94.56</td>\n",
       "      <td>95.21</td>\n",
       "      <td>93.89</td>\n",
       "      <td>94.16</td>\n",
       "      <td>42062391</td>\n",
       "      <td>22.081032</td>\n",
       "      <td>22.232815</td>\n",
       "      <td>21.924578</td>\n",
       "      <td>21.987626</td>\n",
       "      <td>168249564</td>\n",
       "      <td>0.0</td>\n",
       "      <td>1.0</td>\n",
       "    </tr>\n",
       "    <tr>\n",
       "      <th>3</th>\n",
       "      <td>AAPL</td>\n",
       "      <td>2016-05-19 00:00:00+00:00</td>\n",
       "      <td>94.20</td>\n",
       "      <td>94.64</td>\n",
       "      <td>93.57</td>\n",
       "      <td>94.64</td>\n",
       "      <td>30442100</td>\n",
       "      <td>21.996967</td>\n",
       "      <td>22.099713</td>\n",
       "      <td>21.849853</td>\n",
       "      <td>22.099713</td>\n",
       "      <td>121768400</td>\n",
       "      <td>0.0</td>\n",
       "      <td>1.0</td>\n",
       "    </tr>\n",
       "    <tr>\n",
       "      <th>4</th>\n",
       "      <td>AAPL</td>\n",
       "      <td>2016-05-20 00:00:00+00:00</td>\n",
       "      <td>95.22</td>\n",
       "      <td>95.43</td>\n",
       "      <td>94.52</td>\n",
       "      <td>94.64</td>\n",
       "      <td>32025968</td>\n",
       "      <td>22.235151</td>\n",
       "      <td>22.284188</td>\n",
       "      <td>22.071691</td>\n",
       "      <td>22.099713</td>\n",
       "      <td>128103872</td>\n",
       "      <td>0.0</td>\n",
       "      <td>1.0</td>\n",
       "    </tr>\n",
       "  </tbody>\n",
       "</table>\n",
       "</div>"
      ],
      "text/plain": [
       "  symbol                       date  close   high    low   open    volume  \\\n",
       "0   AAPL  2016-05-16 00:00:00+00:00  93.88  94.39  91.65  92.39  61259756   \n",
       "1   AAPL  2016-05-17 00:00:00+00:00  93.49  94.70  93.01  94.55  46916939   \n",
       "2   AAPL  2016-05-18 00:00:00+00:00  94.56  95.21  93.89  94.16  42062391   \n",
       "3   AAPL  2016-05-19 00:00:00+00:00  94.20  94.64  93.57  94.64  30442100   \n",
       "4   AAPL  2016-05-20 00:00:00+00:00  95.22  95.43  94.52  94.64  32025968   \n",
       "\n",
       "    adjClose    adjHigh     adjLow    adjOpen  adjVolume  divCash  splitFactor  \n",
       "0  21.922242  22.041334  21.401507  21.574307  245039024      0.0          1.0  \n",
       "1  21.831172  22.113724  21.719086  22.078696  187667756      0.0          1.0  \n",
       "2  22.081032  22.232815  21.924578  21.987626  168249564      0.0          1.0  \n",
       "3  21.996967  22.099713  21.849853  22.099713  121768400      0.0          1.0  \n",
       "4  22.235151  22.284188  22.071691  22.099713  128103872      0.0          1.0  "
      ]
     },
     "execution_count": 14,
     "metadata": {},
     "output_type": "execute_result"
    }
   ],
   "source": [
    "data.head()"
   ]
  },
  {
   "cell_type": "code",
   "execution_count": 15,
   "metadata": {
    "ExecuteTime": {
     "end_time": "2021-05-14T10:17:05.476028Z",
     "start_time": "2021-05-14T10:17:05.455084Z"
    }
   },
   "outputs": [
    {
     "data": {
      "text/html": [
       "<div>\n",
       "<style scoped>\n",
       "    .dataframe tbody tr th:only-of-type {\n",
       "        vertical-align: middle;\n",
       "    }\n",
       "\n",
       "    .dataframe tbody tr th {\n",
       "        vertical-align: top;\n",
       "    }\n",
       "\n",
       "    .dataframe thead th {\n",
       "        text-align: right;\n",
       "    }\n",
       "</style>\n",
       "<table border=\"1\" class=\"dataframe\">\n",
       "  <thead>\n",
       "    <tr style=\"text-align: right;\">\n",
       "      <th></th>\n",
       "      <th>symbol</th>\n",
       "      <th>date</th>\n",
       "      <th>close</th>\n",
       "      <th>high</th>\n",
       "      <th>low</th>\n",
       "      <th>open</th>\n",
       "      <th>volume</th>\n",
       "      <th>adjClose</th>\n",
       "      <th>adjHigh</th>\n",
       "      <th>adjLow</th>\n",
       "      <th>adjOpen</th>\n",
       "      <th>adjVolume</th>\n",
       "      <th>divCash</th>\n",
       "      <th>splitFactor</th>\n",
       "    </tr>\n",
       "  </thead>\n",
       "  <tbody>\n",
       "    <tr>\n",
       "      <th>1253</th>\n",
       "      <td>AAPL</td>\n",
       "      <td>2021-05-07 00:00:00+00:00</td>\n",
       "      <td>130.21</td>\n",
       "      <td>131.2582</td>\n",
       "      <td>129.475</td>\n",
       "      <td>130.85</td>\n",
       "      <td>78973273</td>\n",
       "      <td>130.21</td>\n",
       "      <td>131.2582</td>\n",
       "      <td>129.475</td>\n",
       "      <td>130.85</td>\n",
       "      <td>78973273</td>\n",
       "      <td>0.22</td>\n",
       "      <td>1.0</td>\n",
       "    </tr>\n",
       "    <tr>\n",
       "      <th>1254</th>\n",
       "      <td>AAPL</td>\n",
       "      <td>2021-05-10 00:00:00+00:00</td>\n",
       "      <td>126.85</td>\n",
       "      <td>129.5400</td>\n",
       "      <td>126.810</td>\n",
       "      <td>129.41</td>\n",
       "      <td>88071229</td>\n",
       "      <td>126.85</td>\n",
       "      <td>129.5400</td>\n",
       "      <td>126.810</td>\n",
       "      <td>129.41</td>\n",
       "      <td>88071229</td>\n",
       "      <td>0.00</td>\n",
       "      <td>1.0</td>\n",
       "    </tr>\n",
       "    <tr>\n",
       "      <th>1255</th>\n",
       "      <td>AAPL</td>\n",
       "      <td>2021-05-11 00:00:00+00:00</td>\n",
       "      <td>125.91</td>\n",
       "      <td>126.2700</td>\n",
       "      <td>122.770</td>\n",
       "      <td>123.50</td>\n",
       "      <td>126142826</td>\n",
       "      <td>125.91</td>\n",
       "      <td>126.2700</td>\n",
       "      <td>122.770</td>\n",
       "      <td>123.50</td>\n",
       "      <td>126142826</td>\n",
       "      <td>0.00</td>\n",
       "      <td>1.0</td>\n",
       "    </tr>\n",
       "    <tr>\n",
       "      <th>1256</th>\n",
       "      <td>AAPL</td>\n",
       "      <td>2021-05-12 00:00:00+00:00</td>\n",
       "      <td>122.77</td>\n",
       "      <td>124.6400</td>\n",
       "      <td>122.250</td>\n",
       "      <td>123.40</td>\n",
       "      <td>112172282</td>\n",
       "      <td>122.77</td>\n",
       "      <td>124.6400</td>\n",
       "      <td>122.250</td>\n",
       "      <td>123.40</td>\n",
       "      <td>112172282</td>\n",
       "      <td>0.00</td>\n",
       "      <td>1.0</td>\n",
       "    </tr>\n",
       "    <tr>\n",
       "      <th>1257</th>\n",
       "      <td>AAPL</td>\n",
       "      <td>2021-05-13 00:00:00+00:00</td>\n",
       "      <td>124.97</td>\n",
       "      <td>126.1500</td>\n",
       "      <td>124.260</td>\n",
       "      <td>124.58</td>\n",
       "      <td>105861339</td>\n",
       "      <td>124.97</td>\n",
       "      <td>126.1500</td>\n",
       "      <td>124.260</td>\n",
       "      <td>124.58</td>\n",
       "      <td>105861339</td>\n",
       "      <td>0.00</td>\n",
       "      <td>1.0</td>\n",
       "    </tr>\n",
       "  </tbody>\n",
       "</table>\n",
       "</div>"
      ],
      "text/plain": [
       "     symbol                       date   close      high      low    open  \\\n",
       "1253   AAPL  2021-05-07 00:00:00+00:00  130.21  131.2582  129.475  130.85   \n",
       "1254   AAPL  2021-05-10 00:00:00+00:00  126.85  129.5400  126.810  129.41   \n",
       "1255   AAPL  2021-05-11 00:00:00+00:00  125.91  126.2700  122.770  123.50   \n",
       "1256   AAPL  2021-05-12 00:00:00+00:00  122.77  124.6400  122.250  123.40   \n",
       "1257   AAPL  2021-05-13 00:00:00+00:00  124.97  126.1500  124.260  124.58   \n",
       "\n",
       "         volume  adjClose   adjHigh   adjLow  adjOpen  adjVolume  divCash  \\\n",
       "1253   78973273    130.21  131.2582  129.475   130.85   78973273     0.22   \n",
       "1254   88071229    126.85  129.5400  126.810   129.41   88071229     0.00   \n",
       "1255  126142826    125.91  126.2700  122.770   123.50  126142826     0.00   \n",
       "1256  112172282    122.77  124.6400  122.250   123.40  112172282     0.00   \n",
       "1257  105861339    124.97  126.1500  124.260   124.58  105861339     0.00   \n",
       "\n",
       "      splitFactor  \n",
       "1253          1.0  \n",
       "1254          1.0  \n",
       "1255          1.0  \n",
       "1256          1.0  \n",
       "1257          1.0  "
      ]
     },
     "execution_count": 15,
     "metadata": {},
     "output_type": "execute_result"
    }
   ],
   "source": [
    "data.tail()"
   ]
  },
  {
   "cell_type": "code",
   "execution_count": null,
   "metadata": {},
   "outputs": [],
   "source": [
    "df1 = data.close"
   ]
  },
  {
   "cell_type": "code",
   "execution_count": 45,
   "metadata": {
    "ExecuteTime": {
     "end_time": "2021-05-14T10:35:12.084209Z",
     "start_time": "2021-05-14T10:35:12.072241Z"
    }
   },
   "outputs": [],
   "source": [
    "mn = MinMaxScaler()\n",
    "df2 = mn.fit_transform(np.array(df1).reshape(-1,1))"
   ]
  },
  {
   "cell_type": "code",
   "execution_count": 359,
   "metadata": {
    "ExecuteTime": {
     "end_time": "2021-05-14T15:47:19.559978Z",
     "start_time": "2021-05-14T15:47:19.550036Z"
    }
   },
   "outputs": [],
   "source": [
    "# X--99 days y-100th day\n",
    "X = []\n",
    "y = []\n",
    "for i in range(len(df1)-100):\n",
    "    X.append(df2[i:100+i,0])\n",
    "    y.append(df2[i+100,0])\n",
    "X = np.array(X)\n",
    "y = np.array(y)"
   ]
  },
  {
   "cell_type": "code",
   "execution_count": 224,
   "metadata": {
    "ExecuteTime": {
     "end_time": "2021-05-14T12:53:28.863568Z",
     "start_time": "2021-05-14T12:53:28.853595Z"
    }
   },
   "outputs": [],
   "source": [
    "X_train,y_train = X[:round(len(X)*0.65)],y[:round(len(y)*0.65)]\n",
    "X_test,y_test = X[round(len(X)*0.65):],y[round(len(y)*0.65):]"
   ]
  },
  {
   "cell_type": "code",
   "execution_count": 204,
   "metadata": {
    "ExecuteTime": {
     "end_time": "2021-05-14T12:49:26.449109Z",
     "start_time": "2021-05-14T12:49:26.432155Z"
    }
   },
   "outputs": [],
   "source": [
    "X_train = X_train.reshape(753,100,1)"
   ]
  },
  {
   "cell_type": "code",
   "execution_count": 205,
   "metadata": {
    "ExecuteTime": {
     "end_time": "2021-05-14T12:49:26.963624Z",
     "start_time": "2021-05-14T12:49:26.958638Z"
    }
   },
   "outputs": [],
   "source": [
    "X_test = X_test.reshape(405,100,1)"
   ]
  },
  {
   "cell_type": "code",
   "execution_count": 206,
   "metadata": {
    "ExecuteTime": {
     "end_time": "2021-05-14T12:49:30.262259Z",
     "start_time": "2021-05-14T12:49:29.506135Z"
    }
   },
   "outputs": [],
   "source": [
    "model = Sequential()\n",
    "\n",
    "model.add(LSTM(50,input_shape=(100,1),return_sequences=True))\n",
    "model.add(LSTM(50,return_sequences=True))\n",
    "model.add(LSTM(50))\n",
    "\n",
    "model.add(Dense(1))"
   ]
  },
  {
   "cell_type": "code",
   "execution_count": 183,
   "metadata": {
    "ExecuteTime": {
     "end_time": "2021-05-14T12:38:56.197417Z",
     "start_time": "2021-05-14T12:38:56.183407Z"
    }
   },
   "outputs": [
    {
     "name": "stdout",
     "output_type": "stream",
     "text": [
      "Model: \"sequential_11\"\n",
      "_________________________________________________________________\n",
      "Layer (type)                 Output Shape              Param #   \n",
      "=================================================================\n",
      "lstm_22 (LSTM)               (None, 100, 50)           10400     \n",
      "_________________________________________________________________\n",
      "lstm_23 (LSTM)               (None, 100, 50)           20200     \n",
      "_________________________________________________________________\n",
      "lstm_24 (LSTM)               (None, 50)                20200     \n",
      "_________________________________________________________________\n",
      "dense_3 (Dense)              (None, 1)                 51        \n",
      "=================================================================\n",
      "Total params: 50,851\n",
      "Trainable params: 50,851\n",
      "Non-trainable params: 0\n",
      "_________________________________________________________________\n"
     ]
    }
   ],
   "source": [
    "model.summary()"
   ]
  },
  {
   "cell_type": "code",
   "execution_count": 207,
   "metadata": {
    "ExecuteTime": {
     "end_time": "2021-05-14T12:49:31.290789Z",
     "start_time": "2021-05-14T12:49:31.279818Z"
    }
   },
   "outputs": [],
   "source": [
    "model.compile(optimizer='adam',\n",
    "             loss='mean_squared_error')"
   ]
  },
  {
   "cell_type": "code",
   "execution_count": 208,
   "metadata": {
    "ExecuteTime": {
     "end_time": "2021-05-14T12:51:47.452168Z",
     "start_time": "2021-05-14T12:49:31.816434Z"
    },
    "scrolled": true
   },
   "outputs": [
    {
     "name": "stdout",
     "output_type": "stream",
     "text": [
      "Epoch 1/100\n",
      "12/12 - 2s - loss: 0.0107 - val_loss: 0.0414\n",
      "Epoch 2/100\n",
      "12/12 - 1s - loss: 0.0026 - val_loss: 0.0226\n",
      "Epoch 3/100\n",
      "12/12 - 1s - loss: 0.0013 - val_loss: 0.0229\n",
      "Epoch 4/100\n",
      "12/12 - 1s - loss: 6.8042e-04 - val_loss: 0.0178\n",
      "Epoch 5/100\n",
      "12/12 - 1s - loss: 4.6855e-04 - val_loss: 0.0176\n",
      "Epoch 6/100\n",
      "12/12 - 1s - loss: 4.3708e-04 - val_loss: 0.0176\n",
      "Epoch 7/100\n",
      "12/12 - 1s - loss: 4.0961e-04 - val_loss: 0.0164\n",
      "Epoch 8/100\n",
      "12/12 - 1s - loss: 3.9142e-04 - val_loss: 0.0161\n",
      "Epoch 9/100\n",
      "12/12 - 1s - loss: 3.7976e-04 - val_loss: 0.0159\n",
      "Epoch 10/100\n",
      "12/12 - 1s - loss: 3.6602e-04 - val_loss: 0.0155\n",
      "Epoch 11/100\n",
      "12/12 - 1s - loss: 3.5882e-04 - val_loss: 0.0152\n",
      "Epoch 12/100\n",
      "12/12 - 1s - loss: 3.4949e-04 - val_loss: 0.0149\n",
      "Epoch 13/100\n",
      "12/12 - 1s - loss: 3.4215e-04 - val_loss: 0.0145\n",
      "Epoch 14/100\n",
      "12/12 - 1s - loss: 3.3046e-04 - val_loss: 0.0142\n",
      "Epoch 15/100\n",
      "12/12 - 1s - loss: 3.1446e-04 - val_loss: 0.0137\n",
      "Epoch 16/100\n",
      "12/12 - 1s - loss: 3.0896e-04 - val_loss: 0.0135\n",
      "Epoch 17/100\n",
      "12/12 - 1s - loss: 3.1036e-04 - val_loss: 0.0129\n",
      "Epoch 18/100\n",
      "12/12 - 1s - loss: 2.9548e-04 - val_loss: 0.0125\n",
      "Epoch 19/100\n",
      "12/12 - 1s - loss: 3.0568e-04 - val_loss: 0.0121\n",
      "Epoch 20/100\n",
      "12/12 - 1s - loss: 2.6948e-04 - val_loss: 0.0117\n",
      "Epoch 21/100\n",
      "12/12 - 1s - loss: 3.3992e-04 - val_loss: 0.0113\n",
      "Epoch 22/100\n",
      "12/12 - 1s - loss: 3.0770e-04 - val_loss: 0.0112\n",
      "Epoch 23/100\n",
      "12/12 - 1s - loss: 2.7350e-04 - val_loss: 0.0108\n",
      "Epoch 24/100\n",
      "12/12 - 1s - loss: 2.6132e-04 - val_loss: 0.0109\n",
      "Epoch 25/100\n",
      "12/12 - 1s - loss: 2.4387e-04 - val_loss: 0.0102\n",
      "Epoch 26/100\n",
      "12/12 - 1s - loss: 2.3879e-04 - val_loss: 0.0107\n",
      "Epoch 27/100\n",
      "12/12 - 1s - loss: 2.1869e-04 - val_loss: 0.0101\n",
      "Epoch 28/100\n",
      "12/12 - 1s - loss: 2.2186e-04 - val_loss: 0.0105\n",
      "Epoch 29/100\n",
      "12/12 - 1s - loss: 2.1001e-04 - val_loss: 0.0105\n",
      "Epoch 30/100\n",
      "12/12 - 1s - loss: 2.1697e-04 - val_loss: 0.0109\n",
      "Epoch 31/100\n",
      "12/12 - 1s - loss: 2.1586e-04 - val_loss: 0.0105\n",
      "Epoch 32/100\n",
      "12/12 - 1s - loss: 2.0746e-04 - val_loss: 0.0104\n",
      "Epoch 33/100\n",
      "12/12 - 1s - loss: 2.0085e-04 - val_loss: 0.0097\n",
      "Epoch 34/100\n",
      "12/12 - 1s - loss: 2.2818e-04 - val_loss: 0.0097\n",
      "Epoch 35/100\n",
      "12/12 - 1s - loss: 2.0416e-04 - val_loss: 0.0101\n",
      "Epoch 36/100\n",
      "12/12 - 1s - loss: 1.9522e-04 - val_loss: 0.0101\n",
      "Epoch 37/100\n",
      "12/12 - 1s - loss: 1.9575e-04 - val_loss: 0.0113\n",
      "Epoch 38/100\n",
      "12/12 - 1s - loss: 2.2770e-04 - val_loss: 0.0095\n",
      "Epoch 39/100\n",
      "12/12 - 1s - loss: 1.9794e-04 - val_loss: 0.0095\n",
      "Epoch 40/100\n",
      "12/12 - 1s - loss: 1.8646e-04 - val_loss: 0.0100\n",
      "Epoch 41/100\n",
      "12/12 - 1s - loss: 1.9074e-04 - val_loss: 0.0103\n",
      "Epoch 42/100\n",
      "12/12 - 1s - loss: 1.8445e-04 - val_loss: 0.0102\n",
      "Epoch 43/100\n",
      "12/12 - 1s - loss: 1.8517e-04 - val_loss: 0.0094\n",
      "Epoch 44/100\n",
      "12/12 - 1s - loss: 1.8168e-04 - val_loss: 0.0100\n",
      "Epoch 45/100\n",
      "12/12 - 1s - loss: 1.7777e-04 - val_loss: 0.0099\n",
      "Epoch 46/100\n",
      "12/12 - 1s - loss: 1.8057e-04 - val_loss: 0.0092\n",
      "Epoch 47/100\n",
      "12/12 - 1s - loss: 2.0437e-04 - val_loss: 0.0086\n",
      "Epoch 48/100\n",
      "12/12 - 1s - loss: 2.1810e-04 - val_loss: 0.0092\n",
      "Epoch 49/100\n",
      "12/12 - 1s - loss: 1.8196e-04 - val_loss: 0.0085\n",
      "Epoch 50/100\n",
      "12/12 - 1s - loss: 1.8057e-04 - val_loss: 0.0083\n",
      "Epoch 51/100\n",
      "12/12 - 1s - loss: 1.8751e-04 - val_loss: 0.0095\n",
      "Epoch 52/100\n",
      "12/12 - 1s - loss: 1.8895e-04 - val_loss: 0.0096\n",
      "Epoch 53/100\n",
      "12/12 - 1s - loss: 1.7473e-04 - val_loss: 0.0084\n",
      "Epoch 54/100\n",
      "12/12 - 1s - loss: 1.8178e-04 - val_loss: 0.0087\n",
      "Epoch 55/100\n",
      "12/12 - 1s - loss: 1.6538e-04 - val_loss: 0.0094\n",
      "Epoch 56/100\n",
      "12/12 - 1s - loss: 1.6512e-04 - val_loss: 0.0086\n",
      "Epoch 57/100\n",
      "12/12 - 1s - loss: 1.5820e-04 - val_loss: 0.0090\n",
      "Epoch 58/100\n",
      "12/12 - 1s - loss: 1.5773e-04 - val_loss: 0.0085\n",
      "Epoch 59/100\n",
      "12/12 - 1s - loss: 1.6698e-04 - val_loss: 0.0082\n",
      "Epoch 60/100\n",
      "12/12 - 1s - loss: 1.6355e-04 - val_loss: 0.0088\n",
      "Epoch 61/100\n",
      "12/12 - 1s - loss: 1.6782e-04 - val_loss: 0.0096\n",
      "Epoch 62/100\n",
      "12/12 - 1s - loss: 1.6786e-04 - val_loss: 0.0079\n",
      "Epoch 63/100\n",
      "12/12 - 1s - loss: 1.5489e-04 - val_loss: 0.0084\n",
      "Epoch 64/100\n",
      "12/12 - 1s - loss: 1.4834e-04 - val_loss: 0.0086\n",
      "Epoch 65/100\n",
      "12/12 - 1s - loss: 1.5714e-04 - val_loss: 0.0080\n",
      "Epoch 66/100\n",
      "12/12 - 1s - loss: 1.4492e-04 - val_loss: 0.0082\n",
      "Epoch 67/100\n",
      "12/12 - 1s - loss: 1.4804e-04 - val_loss: 0.0082\n",
      "Epoch 68/100\n",
      "12/12 - 1s - loss: 1.4915e-04 - val_loss: 0.0080\n",
      "Epoch 69/100\n",
      "12/12 - 1s - loss: 1.5607e-04 - val_loss: 0.0085\n",
      "Epoch 70/100\n",
      "12/12 - 1s - loss: 1.5463e-04 - val_loss: 0.0076\n",
      "Epoch 71/100\n",
      "12/12 - 1s - loss: 1.6631e-04 - val_loss: 0.0073\n",
      "Epoch 72/100\n",
      "12/12 - 1s - loss: 1.5844e-04 - val_loss: 0.0072\n",
      "Epoch 73/100\n",
      "12/12 - 1s - loss: 1.3806e-04 - val_loss: 0.0073\n",
      "Epoch 74/100\n",
      "12/12 - 1s - loss: 1.4317e-04 - val_loss: 0.0085\n",
      "Epoch 75/100\n",
      "12/12 - 1s - loss: 1.4122e-04 - val_loss: 0.0075\n",
      "Epoch 76/100\n",
      "12/12 - 1s - loss: 1.3273e-04 - val_loss: 0.0075\n",
      "Epoch 77/100\n",
      "12/12 - 1s - loss: 1.3108e-04 - val_loss: 0.0077\n",
      "Epoch 78/100\n",
      "12/12 - 1s - loss: 1.4454e-04 - val_loss: 0.0070\n",
      "Epoch 79/100\n",
      "12/12 - 1s - loss: 1.3199e-04 - val_loss: 0.0069\n",
      "Epoch 80/100\n",
      "12/12 - 1s - loss: 1.3498e-04 - val_loss: 0.0076\n",
      "Epoch 81/100\n",
      "12/12 - 1s - loss: 1.3293e-04 - val_loss: 0.0070\n",
      "Epoch 82/100\n",
      "12/12 - 1s - loss: 1.3270e-04 - val_loss: 0.0068\n",
      "Epoch 83/100\n",
      "12/12 - 1s - loss: 1.2637e-04 - val_loss: 0.0069\n",
      "Epoch 84/100\n",
      "12/12 - 1s - loss: 1.2508e-04 - val_loss: 0.0067\n",
      "Epoch 85/100\n",
      "12/12 - 1s - loss: 1.2902e-04 - val_loss: 0.0066\n",
      "Epoch 86/100\n",
      "12/12 - 1s - loss: 1.3731e-04 - val_loss: 0.0065\n",
      "Epoch 87/100\n",
      "12/12 - 1s - loss: 1.3708e-04 - val_loss: 0.0070\n",
      "Epoch 88/100\n",
      "12/12 - 1s - loss: 1.2473e-04 - val_loss: 0.0066\n",
      "Epoch 89/100\n",
      "12/12 - 1s - loss: 1.2129e-04 - val_loss: 0.0068\n",
      "Epoch 90/100\n",
      "12/12 - 1s - loss: 1.2044e-04 - val_loss: 0.0066\n",
      "Epoch 91/100\n",
      "12/12 - 1s - loss: 1.1457e-04 - val_loss: 0.0064\n",
      "Epoch 92/100\n",
      "12/12 - 1s - loss: 1.2154e-04 - val_loss: 0.0061\n",
      "Epoch 93/100\n",
      "12/12 - 1s - loss: 1.2264e-04 - val_loss: 0.0064\n",
      "Epoch 94/100\n",
      "12/12 - 1s - loss: 1.1636e-04 - val_loss: 0.0061\n",
      "Epoch 95/100\n",
      "12/12 - 1s - loss: 1.1613e-04 - val_loss: 0.0062\n",
      "Epoch 96/100\n",
      "12/12 - 1s - loss: 1.3107e-04 - val_loss: 0.0067\n",
      "Epoch 97/100\n",
      "12/12 - 1s - loss: 1.2415e-04 - val_loss: 0.0061\n",
      "Epoch 98/100\n",
      "12/12 - 1s - loss: 1.0741e-04 - val_loss: 0.0059\n",
      "Epoch 99/100\n",
      "12/12 - 1s - loss: 1.1426e-04 - val_loss: 0.0059\n",
      "Epoch 100/100\n",
      "12/12 - 1s - loss: 1.1203e-04 - val_loss: 0.0058\n"
     ]
    }
   ],
   "source": [
    "result = model.fit(X_train,y_train,\n",
    "         epochs=100,\n",
    "         verbose=2,\n",
    "         batch_size=64,\n",
    "         validation_data=(X_test,y_test))"
   ]
  },
  {
   "cell_type": "code",
   "execution_count": 209,
   "metadata": {
    "ExecuteTime": {
     "end_time": "2021-05-14T12:51:47.593814Z",
     "start_time": "2021-05-14T12:51:47.455159Z"
    }
   },
   "outputs": [
    {
     "data": {
      "text/plain": [
       "<matplotlib.legend.Legend at 0x21188c990d0>"
      ]
     },
     "execution_count": 209,
     "metadata": {},
     "output_type": "execute_result"
    },
    {
     "data": {
      "image/png": "[encoded data removed]",
      "text/plain": [
       "<Figure size 432x288 with 1 Axes>"
      ]
     },
     "metadata": {
      "needs_background": "light"
     },
     "output_type": "display_data"
    }
   ],
   "source": [
    "import matplotlib.pyplot as plt\n",
    "\n",
    "plt.plot(result.history['loss'])\n",
    "plt.plot(result.history['val_loss'])\n",
    "plt.legend(['train','test'])"
   ]
  },
  {
   "cell_type": "code",
   "execution_count": 210,
   "metadata": {
    "ExecuteTime": {
     "end_time": "2021-05-14T12:51:49.442282Z",
     "start_time": "2021-05-14T12:51:47.595810Z"
    }
   },
   "outputs": [],
   "source": [
    "train_pred = model.predict(X_train)\n",
    "test_pred = model.predict(X_test)"
   ]
  },
  {
   "cell_type": "code",
   "execution_count": 211,
   "metadata": {
    "ExecuteTime": {
     "end_time": "2021-05-14T12:51:49.458239Z",
     "start_time": "2021-05-14T12:51:49.444278Z"
    }
   },
   "outputs": [],
   "source": [
    "train_pred = mn.inverse_transform(train_pred)\n",
    "test_pred = mn.inverse_transform(test_pred)"
   ]
  },
  {
   "cell_type": "code",
   "execution_count": 225,
   "metadata": {
    "ExecuteTime": {
     "end_time": "2021-05-14T12:53:36.771376Z",
     "start_time": "2021-05-14T12:53:36.766391Z"
    }
   },
   "outputs": [],
   "source": [
    "y_train = mn.inverse_transform(y_train.reshape(1,-1))"
   ]
  },
  {
   "cell_type": "code",
   "execution_count": 226,
   "metadata": {
    "ExecuteTime": {
     "end_time": "2021-05-14T12:53:37.082655Z",
     "start_time": "2021-05-14T12:53:37.066692Z"
    }
   },
   "outputs": [],
   "source": [
    "y_test = mn.inverse_transform(y_test.reshape(1,-1))"
   ]
  },
  {
   "cell_type": "code",
   "execution_count": 283,
   "metadata": {
    "ExecuteTime": {
     "end_time": "2021-05-14T15:16:05.604249Z",
     "start_time": "2021-05-14T15:16:05.171403Z"
    }
   },
   "outputs": [],
   "source": [
    "model.save('Stock.h5')"
   ]
  },
  {
   "cell_type": "code",
   "execution_count": 228,
   "metadata": {
    "ExecuteTime": {
     "end_time": "2021-05-14T12:53:43.702399Z",
     "start_time": "2021-05-14T12:53:43.691428Z"
    }
   },
   "outputs": [
    {
     "data": {
      "text/plain": [
       "4.2689934710037765"
      ]
     },
     "execution_count": 228,
     "metadata": {},
     "output_type": "execute_result"
    }
   ],
   "source": [
    "math.sqrt(mean_squared_error(y_train,train_pred.T))"
   ]
  },
  {
   "cell_type": "code",
   "execution_count": 229,
   "metadata": {
    "ExecuteTime": {
     "end_time": "2021-05-14T12:53:44.352795Z",
     "start_time": "2021-05-14T12:53:44.336828Z"
    }
   },
   "outputs": [
    {
     "data": {
      "text/plain": [
       "31.543627008204"
      ]
     },
     "execution_count": 229,
     "metadata": {},
     "output_type": "execute_result"
    }
   ],
   "source": [
    "math.sqrt(mean_squared_error(y_test,test_pred.T))"
   ]
  },
  {
   "cell_type": "code",
   "execution_count": 263,
   "metadata": {
    "ExecuteTime": {
     "end_time": "2021-05-14T13:14:52.995696Z",
     "start_time": "2021-05-14T13:14:52.874417Z"
    }
   },
   "outputs": [
    {
     "data": {
      "text/plain": [
       "[<matplotlib.lines.Line2D at 0x2118cc4e970>]"
      ]
     },
     "execution_count": 263,
     "metadata": {},
     "output_type": "execute_result"
    },
    {
     "data": {
      "image/png": "[encoded data removed]",
      "text/plain": [
       "<Figure size 432x288 with 1 Axes>"
      ]
     },
     "metadata": {
      "needs_background": "light"
     },
     "output_type": "display_data"
    }
   ],
   "source": [
    "plt.title('Before Prediction')\n",
    "plt.plot(df1)"
   ]
  },
  {
   "cell_type": "code",
   "execution_count": null,
   "metadata": {},
   "outputs": [],
   "source": [
    "pred_f = model.predict(X[-1].reshape(-1,1))"
   ]
  },
  {
   "cell_type": "code",
   "execution_count": 363,
   "metadata": {
    "ExecuteTime": {
     "end_time": "2021-05-14T15:47:53.058191Z",
     "start_time": "2021-05-14T15:47:51.904101Z"
    }
   },
   "outputs": [
    {
     "name": "stdout",
     "output_type": "stream",
     "text": [
      "[[0.09232576]]\n",
      "[[0.09373458]]\n",
      "[[0.09526064]]\n",
      "[[0.09560082]]\n",
      "[[0.09632148]]\n",
      "[[0.09758946]]\n",
      "[[0.09880903]]\n",
      "[[0.09951305]]\n",
      "[[0.10043257]]\n",
      "[[0.10143847]]\n",
      "[[0.10249475]]\n",
      "[[0.10357761]]\n",
      "[[0.10463429]]\n",
      "[[0.1056299]]\n",
      "[[0.10656363]]\n",
      "[[0.1074621]]\n",
      "[[0.10832802]]\n",
      "[[0.10911926]]\n",
      "[[0.10989174]]\n",
      "[[0.11062565]]\n",
      "[[0.11139651]]\n",
      "[[0.11209521]]\n",
      "[[0.11284126]]\n",
      "[[0.11355122]]\n",
      "[[0.11428626]]\n",
      "[[0.11503386]]\n",
      "[[0.11578456]]\n",
      "[[0.11653443]]\n",
      "[[0.11728917]]\n"
     ]
    }
   ],
   "source": [
    "a=[pred_f]\n",
    "X_a = X[-1,:99]\n",
    "for i in range(2,31):\n",
    "    X_f = (np.append(X_a,np.array(a))).reshape(1,100,1)\n",
    "    X_a = X[-1,-100:-i]\n",
    "    pred_f = model.predict(X_f)\n",
    "    a.append(pred_f)\n",
    "    print(a[-1])"
   ]
  },
  {
   "cell_type": "code",
   "execution_count": 366,
   "metadata": {
    "ExecuteTime": {
     "end_time": "2021-05-14T15:50:08.274351Z",
     "start_time": "2021-05-14T15:50:08.256366Z"
    }
   },
   "outputs": [],
   "source": [
    "final_1 = np.array(a).reshape(30)"
   ]
  },
  {
   "cell_type": "code",
   "execution_count": 376,
   "metadata": {
    "ExecuteTime": {
     "end_time": "2021-05-14T15:55:16.401857Z",
     "start_time": "2021-05-14T15:55:16.397868Z"
    }
   },
   "outputs": [],
   "source": [
    "final = mn.inverse_transform(final_1.reshape(-1,1))"
   ]
  },
  {
   "cell_type": "code",
   "execution_count": 379,
   "metadata": {
    "ExecuteTime": {
     "end_time": "2021-05-14T15:57:08.484994Z",
     "start_time": "2021-05-14T15:57:08.475037Z"
    }
   },
   "outputs": [
    {
     "data": {
      "text/plain": [
       "0     129.753799\n",
       "1     130.267487\n",
       "2     130.850800\n",
       "3     131.482666\n",
       "4     131.623520\n",
       "5     131.921906\n",
       "6     132.446915\n",
       "7     132.951889\n",
       "8     133.243378\n",
       "9     133.624100\n",
       "10    134.040604\n",
       "11    134.477951\n",
       "12    134.926300\n",
       "13    135.363831\n",
       "14    135.776062\n",
       "15    136.162674\n",
       "16    136.534683\n",
       "17    136.893219\n",
       "18    137.220825\n",
       "19    137.540680\n",
       "20    137.844559\n",
       "21    138.163727\n",
       "22    138.453018\n",
       "23    138.761917\n",
       "24    139.055878\n",
       "25    139.360229\n",
       "26    139.669769\n",
       "27    139.980606\n",
       "28    140.291077\n",
       "29    140.603577\n",
       "dtype: float32"
      ]
     },
     "execution_count": 379,
     "metadata": {},
     "output_type": "execute_result"
    }
   ],
   "source": [
    "pd.Series(final.flatten())"
   ]
  },
  {
   "cell_type": "code",
   "execution_count": 391,
   "metadata": {
    "ExecuteTime": {
     "end_time": "2021-05-14T16:08:18.445588Z",
     "start_time": "2021-05-14T16:08:18.338888Z"
    }
   },
   "outputs": [
    {
     "data": {
      "text/plain": [
       "[<matplotlib.lines.Line2D at 0x2118d7eb850>]"
      ]
     },
     "execution_count": 391,
     "metadata": {},
     "output_type": "execute_result"
    },
    {
     "data": {
      "image/png": "[encoded data removed]",
      "text/plain": [
       "<Figure size 432x288 with 1 Axes>"
      ]
     },
     "metadata": {
      "needs_background": "light"
     },
     "output_type": "display_data"
    }
   ],
   "source": [
    "day_new=np.arange(1,101)\n",
    "day_pred=np.arange(101,131)\n",
    "\n",
    "plt.plot(day_new,df1[1158:])\n",
    "plt.plot(day_pred,pd.Series(final.flatten()))"
   ]
  },
  {
   "cell_type": "code",
   "execution_count": 394,
   "metadata": {
    "ExecuteTime": {
     "end_time": "2021-05-14T16:11:26.414206Z",
     "start_time": "2021-05-14T16:11:26.301218Z"
    }
   },
   "outputs": [
    {
     "data": {
      "text/plain": [
       "[<matplotlib.lines.Line2D at 0x2118db11550>]"
      ]
     },
     "execution_count": 394,
     "metadata": {},
     "output_type": "execute_result"
    },
    {
     "data": {
      "image/png": "[encoded data removed]",
      "text/plain": [
       "<Figure size 432x288 with 1 Axes>"
      ]
     },
     "metadata": {
      "needs_background": "light"
     },
     "output_type": "display_data"
    }
   ],
   "source": [
    "df3=df1.tolist()\n",
    "df3.extend(list(final.flatten()))\n",
    "plt.plot(df3[1200:])"
   ]
  },
  {
   "cell_type": "code",
   "execution_count": 395,
   "metadata": {
    "ExecuteTime": {
     "end_time": "2021-05-14T16:11:43.223008Z",
     "start_time": "2021-05-14T16:11:43.110019Z"
    }
   },
   "outputs": [
    {
     "data": {
      "text/plain": [
       "[<matplotlib.lines.Line2D at 0x2118d2996a0>]"
      ]
     },
     "execution_count": 395,
     "metadata": {},
     "output_type": "execute_result"
    },
    {
     "data": {
      "image/png": "[encoded data removed]",
      "text/plain": [
       "<Figure size 432x288 with 1 Axes>"
      ]
     },
     "metadata": {
      "needs_background": "light"
     },
     "output_type": "display_data"
    }
   ],
   "source": [
    "plt.plot(df3)"
   ]
  },
  {
   "cell_type": "code",
   "execution_count": null,
   "metadata": {},
   "outputs": [],
   "source": []
  }
 ],
 "metadata": {
  "kernelspec": {
   "display_name": "Python 3",
   "language": "python",
   "name": "python3"
  },
  "language_info": {
   "codemirror_mode": {
    "name": "ipython",
    "version": 3
   },
   "file_extension": ".py",
   "mimetype": "text/x-python",
   "name": "python",
   "nbconvert_exporter": "python",
   "pygments_lexer": "ipython3",
   "version": "3.8.3"
  }
 },
 "nbformat": 4,
 "nbformat_minor": 4
}
