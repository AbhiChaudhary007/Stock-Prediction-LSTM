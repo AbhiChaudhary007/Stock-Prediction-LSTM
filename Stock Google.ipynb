{
 "cells": [
  {
   "cell_type": "code",
   "execution_count": 80,
   "metadata": {
    "ExecuteTime": {
     "end_time": "2021-05-15T10:13:58.409936Z",
     "start_time": "2021-05-15T10:13:58.400960Z"
    }
   },
   "outputs": [],
   "source": [
    "import pandas as pd\n",
    "import pandas_datareader as pdr\n",
    "from sklearn.preprocessing import MinMaxScaler\n",
    "import numpy as np\n",
    "from tensorflow.keras.layers import Dense,LSTM,Dropout\n",
    "from tensorflow.keras.models import Sequential\n",
    "from tensorflow.keras.callbacks import EarlyStopping\n",
    "import matplotlib.pyplot as plt\n",
    "from tensorflow.keras.optimizers import Adam\n",
    "from sklearn.metrics import mean_squared_error\n",
    "import math"
   ]
  },
  {
   "cell_type": "code",
   "execution_count": 229,
   "metadata": {
    "ExecuteTime": {
     "end_time": "2021-05-15T11:08:30.948019Z",
     "start_time": "2021-05-15T11:08:28.726921Z"
    }
   },
   "outputs": [],
   "source": [
    "df = pdr.get_data_tiingo('GOOGL', api_key='ef9f83b5eb2c88c6717b0ffd4ca55e8ab654395a')"
   ]
  },
  {
   "cell_type": "code",
   "execution_count": 230,
   "metadata": {
    "ExecuteTime": {
     "end_time": "2021-05-15T11:08:31.602914Z",
     "start_time": "2021-05-15T11:08:31.568566Z"
    }
   },
   "outputs": [],
   "source": [
    "df.to_csv('Stock_Google')"
   ]
  },
  {
   "cell_type": "code",
   "execution_count": 231,
   "metadata": {
    "ExecuteTime": {
     "end_time": "2021-05-15T11:08:32.228344Z",
     "start_time": "2021-05-15T11:08:32.210392Z"
    }
   },
   "outputs": [],
   "source": [
    "df = pd.read_csv('Stock_Google')"
   ]
  },
  {
   "cell_type": "code",
   "execution_count": 232,
   "metadata": {
    "ExecuteTime": {
     "end_time": "2021-05-15T11:08:32.790949Z",
     "start_time": "2021-05-15T11:08:32.771972Z"
    }
   },
   "outputs": [
    {
     "data": {
      "text/html": [
       "<div>\n",
       "<style scoped>\n",
       "    .dataframe tbody tr th:only-of-type {\n",
       "        vertical-align: middle;\n",
       "    }\n",
       "\n",
       "    .dataframe tbody tr th {\n",
       "        vertical-align: top;\n",
       "    }\n",
       "\n",
       "    .dataframe thead th {\n",
       "        text-align: right;\n",
       "    }\n",
       "</style>\n",
       "<table border=\"1\" class=\"dataframe\">\n",
       "  <thead>\n",
       "    <tr style=\"text-align: right;\">\n",
       "      <th></th>\n",
       "      <th>symbol</th>\n",
       "      <th>date</th>\n",
       "      <th>close</th>\n",
       "      <th>high</th>\n",
       "      <th>low</th>\n",
       "      <th>open</th>\n",
       "      <th>volume</th>\n",
       "      <th>adjClose</th>\n",
       "      <th>adjHigh</th>\n",
       "      <th>adjLow</th>\n",
       "      <th>adjOpen</th>\n",
       "      <th>adjVolume</th>\n",
       "      <th>divCash</th>\n",
       "      <th>splitFactor</th>\n",
       "    </tr>\n",
       "  </thead>\n",
       "  <tbody>\n",
       "    <tr>\n",
       "      <th>0</th>\n",
       "      <td>GOOGL</td>\n",
       "      <td>2016-05-16 00:00:00+00:00</td>\n",
       "      <td>730.30</td>\n",
       "      <td>732.68</td>\n",
       "      <td>720.000</td>\n",
       "      <td>724.32</td>\n",
       "      <td>1126862</td>\n",
       "      <td>730.30</td>\n",
       "      <td>732.68</td>\n",
       "      <td>720.000</td>\n",
       "      <td>724.32</td>\n",
       "      <td>1126862</td>\n",
       "      <td>0.0</td>\n",
       "      <td>1.0</td>\n",
       "    </tr>\n",
       "    <tr>\n",
       "      <th>1</th>\n",
       "      <td>GOOGL</td>\n",
       "      <td>2016-05-17 00:00:00+00:00</td>\n",
       "      <td>720.19</td>\n",
       "      <td>735.85</td>\n",
       "      <td>718.000</td>\n",
       "      <td>731.06</td>\n",
       "      <td>1670176</td>\n",
       "      <td>720.19</td>\n",
       "      <td>735.85</td>\n",
       "      <td>718.000</td>\n",
       "      <td>731.06</td>\n",
       "      <td>1670176</td>\n",
       "      <td>0.0</td>\n",
       "      <td>1.0</td>\n",
       "    </tr>\n",
       "    <tr>\n",
       "      <th>2</th>\n",
       "      <td>GOOGL</td>\n",
       "      <td>2016-05-18 00:00:00+00:00</td>\n",
       "      <td>721.78</td>\n",
       "      <td>725.57</td>\n",
       "      <td>715.020</td>\n",
       "      <td>718.50</td>\n",
       "      <td>1626800</td>\n",
       "      <td>721.78</td>\n",
       "      <td>725.57</td>\n",
       "      <td>715.020</td>\n",
       "      <td>718.50</td>\n",
       "      <td>1626800</td>\n",
       "      <td>0.0</td>\n",
       "      <td>1.0</td>\n",
       "    </tr>\n",
       "    <tr>\n",
       "      <th>3</th>\n",
       "      <td>GOOGL</td>\n",
       "      <td>2016-05-19 00:00:00+00:00</td>\n",
       "      <td>715.31</td>\n",
       "      <td>720.50</td>\n",
       "      <td>710.305</td>\n",
       "      <td>718.30</td>\n",
       "      <td>1529910</td>\n",
       "      <td>715.31</td>\n",
       "      <td>720.50</td>\n",
       "      <td>710.305</td>\n",
       "      <td>718.30</td>\n",
       "      <td>1529910</td>\n",
       "      <td>0.0</td>\n",
       "      <td>1.0</td>\n",
       "    </tr>\n",
       "    <tr>\n",
       "      <th>4</th>\n",
       "      <td>GOOGL</td>\n",
       "      <td>2016-05-20 00:00:00+00:00</td>\n",
       "      <td>721.71</td>\n",
       "      <td>727.70</td>\n",
       "      <td>715.010</td>\n",
       "      <td>716.46</td>\n",
       "      <td>1739895</td>\n",
       "      <td>721.71</td>\n",
       "      <td>727.70</td>\n",
       "      <td>715.010</td>\n",
       "      <td>716.46</td>\n",
       "      <td>1739895</td>\n",
       "      <td>0.0</td>\n",
       "      <td>1.0</td>\n",
       "    </tr>\n",
       "  </tbody>\n",
       "</table>\n",
       "</div>"
      ],
      "text/plain": [
       "  symbol                       date   close    high      low    open   volume  \\\n",
       "0  GOOGL  2016-05-16 00:00:00+00:00  730.30  732.68  720.000  724.32  1126862   \n",
       "1  GOOGL  2016-05-17 00:00:00+00:00  720.19  735.85  718.000  731.06  1670176   \n",
       "2  GOOGL  2016-05-18 00:00:00+00:00  721.78  725.57  715.020  718.50  1626800   \n",
       "3  GOOGL  2016-05-19 00:00:00+00:00  715.31  720.50  710.305  718.30  1529910   \n",
       "4  GOOGL  2016-05-20 00:00:00+00:00  721.71  727.70  715.010  716.46  1739895   \n",
       "\n",
       "   adjClose  adjHigh   adjLow  adjOpen  adjVolume  divCash  splitFactor  \n",
       "0    730.30   732.68  720.000   724.32    1126862      0.0          1.0  \n",
       "1    720.19   735.85  718.000   731.06    1670176      0.0          1.0  \n",
       "2    721.78   725.57  715.020   718.50    1626800      0.0          1.0  \n",
       "3    715.31   720.50  710.305   718.30    1529910      0.0          1.0  \n",
       "4    721.71   727.70  715.010   716.46    1739895      0.0          1.0  "
      ]
     },
     "execution_count": 232,
     "metadata": {},
     "output_type": "execute_result"
    }
   ],
   "source": [
    "df.head()"
   ]
  },
  {
   "cell_type": "code",
   "execution_count": 233,
   "metadata": {
    "ExecuteTime": {
     "end_time": "2021-05-15T11:08:33.616697Z",
     "start_time": "2021-05-15T11:08:33.599743Z"
    }
   },
   "outputs": [
    {
     "data": {
      "text/html": [
       "<div>\n",
       "<style scoped>\n",
       "    .dataframe tbody tr th:only-of-type {\n",
       "        vertical-align: middle;\n",
       "    }\n",
       "\n",
       "    .dataframe tbody tr th {\n",
       "        vertical-align: top;\n",
       "    }\n",
       "\n",
       "    .dataframe thead th {\n",
       "        text-align: right;\n",
       "    }\n",
       "</style>\n",
       "<table border=\"1\" class=\"dataframe\">\n",
       "  <thead>\n",
       "    <tr style=\"text-align: right;\">\n",
       "      <th></th>\n",
       "      <th>symbol</th>\n",
       "      <th>date</th>\n",
       "      <th>close</th>\n",
       "      <th>high</th>\n",
       "      <th>low</th>\n",
       "      <th>open</th>\n",
       "      <th>volume</th>\n",
       "      <th>adjClose</th>\n",
       "      <th>adjHigh</th>\n",
       "      <th>adjLow</th>\n",
       "      <th>adjOpen</th>\n",
       "      <th>adjVolume</th>\n",
       "      <th>divCash</th>\n",
       "      <th>splitFactor</th>\n",
       "    </tr>\n",
       "  </thead>\n",
       "  <tbody>\n",
       "    <tr>\n",
       "      <th>1249</th>\n",
       "      <td>GOOGL</td>\n",
       "      <td>2021-05-03 00:00:00+00:00</td>\n",
       "      <td>2343.08</td>\n",
       "      <td>2381.5500</td>\n",
       "      <td>2335.5000</td>\n",
       "      <td>2364.91</td>\n",
       "      <td>1412139</td>\n",
       "      <td>2343.08</td>\n",
       "      <td>2381.5500</td>\n",
       "      <td>2335.5000</td>\n",
       "      <td>2364.91</td>\n",
       "      <td>1412139</td>\n",
       "      <td>0.0</td>\n",
       "      <td>1.0</td>\n",
       "    </tr>\n",
       "    <tr>\n",
       "      <th>1250</th>\n",
       "      <td>GOOGL</td>\n",
       "      <td>2021-05-04 00:00:00+00:00</td>\n",
       "      <td>2306.83</td>\n",
       "      <td>2324.9899</td>\n",
       "      <td>2256.6800</td>\n",
       "      <td>2313.55</td>\n",
       "      <td>2240932</td>\n",
       "      <td>2306.83</td>\n",
       "      <td>2324.9899</td>\n",
       "      <td>2256.6800</td>\n",
       "      <td>2313.55</td>\n",
       "      <td>2240932</td>\n",
       "      <td>0.0</td>\n",
       "      <td>1.0</td>\n",
       "    </tr>\n",
       "    <tr>\n",
       "      <th>1251</th>\n",
       "      <td>GOOGL</td>\n",
       "      <td>2021-05-05 00:00:00+00:00</td>\n",
       "      <td>2314.77</td>\n",
       "      <td>2335.0000</td>\n",
       "      <td>2308.2800</td>\n",
       "      <td>2328.63</td>\n",
       "      <td>1331809</td>\n",
       "      <td>2314.77</td>\n",
       "      <td>2335.0000</td>\n",
       "      <td>2308.2800</td>\n",
       "      <td>2328.63</td>\n",
       "      <td>1331809</td>\n",
       "      <td>0.0</td>\n",
       "      <td>1.0</td>\n",
       "    </tr>\n",
       "    <tr>\n",
       "      <th>1252</th>\n",
       "      <td>GOOGL</td>\n",
       "      <td>2021-05-06 00:00:00+00:00</td>\n",
       "      <td>2337.35</td>\n",
       "      <td>2337.3500</td>\n",
       "      <td>2293.0418</td>\n",
       "      <td>2306.33</td>\n",
       "      <td>1259523</td>\n",
       "      <td>2337.35</td>\n",
       "      <td>2337.3500</td>\n",
       "      <td>2293.0418</td>\n",
       "      <td>2306.33</td>\n",
       "      <td>1259523</td>\n",
       "      <td>0.0</td>\n",
       "      <td>1.0</td>\n",
       "    </tr>\n",
       "    <tr>\n",
       "      <th>1253</th>\n",
       "      <td>GOOGL</td>\n",
       "      <td>2021-05-07 00:00:00+00:00</td>\n",
       "      <td>2351.93</td>\n",
       "      <td>2371.2500</td>\n",
       "      <td>2346.1550</td>\n",
       "      <td>2363.89</td>\n",
       "      <td>1444862</td>\n",
       "      <td>2351.93</td>\n",
       "      <td>2371.2500</td>\n",
       "      <td>2346.1550</td>\n",
       "      <td>2363.89</td>\n",
       "      <td>1444862</td>\n",
       "      <td>0.0</td>\n",
       "      <td>1.0</td>\n",
       "    </tr>\n",
       "    <tr>\n",
       "      <th>1254</th>\n",
       "      <td>GOOGL</td>\n",
       "      <td>2021-05-10 00:00:00+00:00</td>\n",
       "      <td>2291.75</td>\n",
       "      <td>2331.0000</td>\n",
       "      <td>2284.5400</td>\n",
       "      <td>2328.14</td>\n",
       "      <td>1545729</td>\n",
       "      <td>2291.75</td>\n",
       "      <td>2331.0000</td>\n",
       "      <td>2284.5400</td>\n",
       "      <td>2328.14</td>\n",
       "      <td>1545729</td>\n",
       "      <td>0.0</td>\n",
       "      <td>1.0</td>\n",
       "    </tr>\n",
       "    <tr>\n",
       "      <th>1255</th>\n",
       "      <td>GOOGL</td>\n",
       "      <td>2021-05-11 00:00:00+00:00</td>\n",
       "      <td>2270.06</td>\n",
       "      <td>2280.2800</td>\n",
       "      <td>2233.9200</td>\n",
       "      <td>2243.07</td>\n",
       "      <td>1709292</td>\n",
       "      <td>2270.06</td>\n",
       "      <td>2280.2800</td>\n",
       "      <td>2233.9200</td>\n",
       "      <td>2243.07</td>\n",
       "      <td>1709292</td>\n",
       "      <td>0.0</td>\n",
       "      <td>1.0</td>\n",
       "    </tr>\n",
       "    <tr>\n",
       "      <th>1256</th>\n",
       "      <td>GOOGL</td>\n",
       "      <td>2021-05-12 00:00:00+00:00</td>\n",
       "      <td>2200.25</td>\n",
       "      <td>2247.9800</td>\n",
       "      <td>2193.6200</td>\n",
       "      <td>2226.19</td>\n",
       "      <td>2318774</td>\n",
       "      <td>2200.25</td>\n",
       "      <td>2247.9800</td>\n",
       "      <td>2193.6200</td>\n",
       "      <td>2226.19</td>\n",
       "      <td>2318774</td>\n",
       "      <td>0.0</td>\n",
       "      <td>1.0</td>\n",
       "    </tr>\n",
       "    <tr>\n",
       "      <th>1257</th>\n",
       "      <td>GOOGL</td>\n",
       "      <td>2021-05-13 00:00:00+00:00</td>\n",
       "      <td>2229.04</td>\n",
       "      <td>2239.4375</td>\n",
       "      <td>2206.7200</td>\n",
       "      <td>2226.12</td>\n",
       "      <td>1661020</td>\n",
       "      <td>2229.04</td>\n",
       "      <td>2239.4375</td>\n",
       "      <td>2206.7200</td>\n",
       "      <td>2226.12</td>\n",
       "      <td>1661020</td>\n",
       "      <td>0.0</td>\n",
       "      <td>1.0</td>\n",
       "    </tr>\n",
       "    <tr>\n",
       "      <th>1258</th>\n",
       "      <td>GOOGL</td>\n",
       "      <td>2021-05-14 00:00:00+00:00</td>\n",
       "      <td>2278.38</td>\n",
       "      <td>2284.7200</td>\n",
       "      <td>2250.0000</td>\n",
       "      <td>2258.54</td>\n",
       "      <td>1599829</td>\n",
       "      <td>2278.38</td>\n",
       "      <td>2284.7200</td>\n",
       "      <td>2250.0000</td>\n",
       "      <td>2258.54</td>\n",
       "      <td>1599829</td>\n",
       "      <td>0.0</td>\n",
       "      <td>1.0</td>\n",
       "    </tr>\n",
       "  </tbody>\n",
       "</table>\n",
       "</div>"
      ],
      "text/plain": [
       "     symbol                       date    close       high        low  \\\n",
       "1249  GOOGL  2021-05-03 00:00:00+00:00  2343.08  2381.5500  2335.5000   \n",
       "1250  GOOGL  2021-05-04 00:00:00+00:00  2306.83  2324.9899  2256.6800   \n",
       "1251  GOOGL  2021-05-05 00:00:00+00:00  2314.77  2335.0000  2308.2800   \n",
       "1252  GOOGL  2021-05-06 00:00:00+00:00  2337.35  2337.3500  2293.0418   \n",
       "1253  GOOGL  2021-05-07 00:00:00+00:00  2351.93  2371.2500  2346.1550   \n",
       "1254  GOOGL  2021-05-10 00:00:00+00:00  2291.75  2331.0000  2284.5400   \n",
       "1255  GOOGL  2021-05-11 00:00:00+00:00  2270.06  2280.2800  2233.9200   \n",
       "1256  GOOGL  2021-05-12 00:00:00+00:00  2200.25  2247.9800  2193.6200   \n",
       "1257  GOOGL  2021-05-13 00:00:00+00:00  2229.04  2239.4375  2206.7200   \n",
       "1258  GOOGL  2021-05-14 00:00:00+00:00  2278.38  2284.7200  2250.0000   \n",
       "\n",
       "         open   volume  adjClose    adjHigh     adjLow  adjOpen  adjVolume  \\\n",
       "1249  2364.91  1412139   2343.08  2381.5500  2335.5000  2364.91    1412139   \n",
       "1250  2313.55  2240932   2306.83  2324.9899  2256.6800  2313.55    2240932   \n",
       "1251  2328.63  1331809   2314.77  2335.0000  2308.2800  2328.63    1331809   \n",
       "1252  2306.33  1259523   2337.35  2337.3500  2293.0418  2306.33    1259523   \n",
       "1253  2363.89  1444862   2351.93  2371.2500  2346.1550  2363.89    1444862   \n",
       "1254  2328.14  1545729   2291.75  2331.0000  2284.5400  2328.14    1545729   \n",
       "1255  2243.07  1709292   2270.06  2280.2800  2233.9200  2243.07    1709292   \n",
       "1256  2226.19  2318774   2200.25  2247.9800  2193.6200  2226.19    2318774   \n",
       "1257  2226.12  1661020   2229.04  2239.4375  2206.7200  2226.12    1661020   \n",
       "1258  2258.54  1599829   2278.38  2284.7200  2250.0000  2258.54    1599829   \n",
       "\n",
       "      divCash  splitFactor  \n",
       "1249      0.0          1.0  \n",
       "1250      0.0          1.0  \n",
       "1251      0.0          1.0  \n",
       "1252      0.0          1.0  \n",
       "1253      0.0          1.0  \n",
       "1254      0.0          1.0  \n",
       "1255      0.0          1.0  \n",
       "1256      0.0          1.0  \n",
       "1257      0.0          1.0  \n",
       "1258      0.0          1.0  "
      ]
     },
     "execution_count": 233,
     "metadata": {},
     "output_type": "execute_result"
    }
   ],
   "source": [
    "df.tail(10)"
   ]
  },
  {
   "cell_type": "code",
   "execution_count": 234,
   "metadata": {
    "ExecuteTime": {
     "end_time": "2021-05-15T11:08:40.162913Z",
     "start_time": "2021-05-15T11:08:40.148950Z"
    }
   },
   "outputs": [],
   "source": [
    "df1 = df.close"
   ]
  },
  {
   "cell_type": "code",
   "execution_count": 235,
   "metadata": {
    "ExecuteTime": {
     "end_time": "2021-05-15T11:08:40.614748Z",
     "start_time": "2021-05-15T11:08:40.595798Z"
    }
   },
   "outputs": [
    {
     "data": {
      "text/plain": [
       "(1259,)"
      ]
     },
     "execution_count": 235,
     "metadata": {},
     "output_type": "execute_result"
    }
   ],
   "source": [
    "df1.shape"
   ]
  },
  {
   "cell_type": "code",
   "execution_count": 236,
   "metadata": {
    "ExecuteTime": {
     "end_time": "2021-05-15T11:08:41.501450Z",
     "start_time": "2021-05-15T11:08:41.491510Z"
    }
   },
   "outputs": [],
   "source": [
    "mn = MinMaxScaler()\n",
    "df2 = mn.fit_transform(np.array(df1).reshape(-1,1))"
   ]
  },
  {
   "cell_type": "code",
   "execution_count": 237,
   "metadata": {
    "ExecuteTime": {
     "end_time": "2021-05-15T11:08:42.516678Z",
     "start_time": "2021-05-15T11:08:42.510694Z"
    }
   },
   "outputs": [
    {
     "data": {
      "text/plain": [
       "array([[0.94098573],\n",
       "       [0.92831353],\n",
       "       [0.88752761],\n",
       "       [0.90434793],\n",
       "       [0.93317442]])"
      ]
     },
     "execution_count": 237,
     "metadata": {},
     "output_type": "execute_result"
    }
   ],
   "source": [
    "df2[-5:]"
   ]
  },
  {
   "cell_type": "code",
   "execution_count": 251,
   "metadata": {
    "ExecuteTime": {
     "end_time": "2021-05-15T11:09:52.884663Z",
     "start_time": "2021-05-15T11:09:52.871698Z"
    }
   },
   "outputs": [],
   "source": [
    "def data_gen(size):\n",
    "    X = []\n",
    "    y = []\n",
    "    for i in range(len(df1)-size):\n",
    "        X.append(df2[i:size+i,0])\n",
    "        y.append(df2[size+i,0])\n",
    "    X = np.array(X)\n",
    "    y = np.array(y)\n",
    "    return X,y"
   ]
  },
  {
   "cell_type": "code",
   "execution_count": 252,
   "metadata": {
    "ExecuteTime": {
     "end_time": "2021-05-15T11:09:54.397299Z",
     "start_time": "2021-05-15T11:09:54.387326Z"
    }
   },
   "outputs": [],
   "source": [
    "X,y = data_gen(100)"
   ]
  },
  {
   "cell_type": "code",
   "execution_count": 253,
   "metadata": {
    "ExecuteTime": {
     "end_time": "2021-05-15T11:09:55.259365Z",
     "start_time": "2021-05-15T11:09:55.243409Z"
    }
   },
   "outputs": [
    {
     "data": {
      "text/plain": [
       "115900"
      ]
     },
     "execution_count": 253,
     "metadata": {},
     "output_type": "execute_result"
    }
   ],
   "source": [
    "X.size"
   ]
  },
  {
   "cell_type": "code",
   "execution_count": 254,
   "metadata": {
    "ExecuteTime": {
     "end_time": "2021-05-15T11:09:55.682393Z",
     "start_time": "2021-05-15T11:09:55.667438Z"
    }
   },
   "outputs": [
    {
     "data": {
      "text/plain": [
       "array([0.61057945, 0.61545203, 0.607074  , 0.61175378, 0.61521833,\n",
       "       0.63847116, 0.62900644, 0.6164394 , 0.62601512, 0.61052687,\n",
       "       0.61865952, 0.60862808, 0.63869317, 0.65241701, 0.6281476 ,\n",
       "       0.6171288 , 0.62286606, 0.61332539, 0.61139739, 0.64461154,\n",
       "       0.70046506, 0.70284876, 0.70776224, 0.70876713, 0.71675372,\n",
       "       0.66475035, 0.68476648, 0.66966967, 0.7080602 , 0.7232797 ,\n",
       "       0.80493334, 0.80186607, 0.82243138, 0.8199133 , 0.81457917,\n",
       "       0.82105841, 0.82238464, 0.82605368, 0.83520875, 0.83983594,\n",
       "       0.83235181, 0.8224197 , 0.80223414, 0.8056578 , 0.81949849,\n",
       "       0.77985184, 0.78333392, 0.81123146, 0.80820509, 0.77719938,\n",
       "       0.7903565 , 0.82724553, 0.77491499, 0.79411318, 0.79167689,\n",
       "       0.82927285, 0.79974527, 0.8023393 , 0.81954523, 0.81856954,\n",
       "       0.7830009 , 0.78628434, 0.78846356, 0.79467989, 0.78953857,\n",
       "       0.78949767, 0.78498148, 0.79728561, 0.7976829 , 0.80705998,\n",
       "       0.84635608, 0.89845877, 0.89279162, 0.9101845 , 0.91684486,\n",
       "       0.92866992, 0.91345042, 0.91918183, 0.91186712, 0.93718816,\n",
       "       0.93572756, 0.93982309, 0.93354249, 0.93315689, 0.91806593,\n",
       "       0.94576483, 0.95160725, 0.94053587, 0.98029937, 1.        ,\n",
       "       0.97706267, 0.97097487, 0.9497961 , 0.95443498, 0.96762716,\n",
       "       0.97614541, 0.94098573, 0.92831353, 0.88752761, 0.90434793])"
      ]
     },
     "execution_count": 254,
     "metadata": {},
     "output_type": "execute_result"
    }
   ],
   "source": [
    "X[1158]"
   ]
  },
  {
   "cell_type": "code",
   "execution_count": 255,
   "metadata": {
    "ExecuteTime": {
     "end_time": "2021-05-15T11:09:56.056704Z",
     "start_time": "2021-05-15T11:09:56.047698Z"
    }
   },
   "outputs": [
    {
     "data": {
      "text/plain": [
       "0.9331744195557424"
      ]
     },
     "execution_count": 255,
     "metadata": {},
     "output_type": "execute_result"
    }
   ],
   "source": [
    "y[1158]"
   ]
  },
  {
   "cell_type": "code",
   "execution_count": 256,
   "metadata": {
    "ExecuteTime": {
     "end_time": "2021-05-15T11:09:56.948215Z",
     "start_time": "2021-05-15T11:09:56.938242Z"
    }
   },
   "outputs": [],
   "source": [
    "X_train,y_train = X[:round(len(X)*0.65)],y[:round(len(y)*0.65)]\n",
    "X_test,y_test = X[round(len(X)*0.65):],y[round(len(y)*0.65):]"
   ]
  },
  {
   "cell_type": "code",
   "execution_count": 257,
   "metadata": {
    "ExecuteTime": {
     "end_time": "2021-05-15T11:09:57.848733Z",
     "start_time": "2021-05-15T11:09:57.841720Z"
    }
   },
   "outputs": [],
   "source": [
    "X_train, X_test = X_train.reshape(753,100,1) , X_test.reshape(406,100,1)"
   ]
  },
  {
   "cell_type": "code",
   "execution_count": 258,
   "metadata": {
    "ExecuteTime": {
     "end_time": "2021-05-15T11:09:58.806945Z",
     "start_time": "2021-05-15T11:09:58.311554Z"
    }
   },
   "outputs": [
    {
     "name": "stdout",
     "output_type": "stream",
     "text": [
      "Model: \"sequential_16\"\n",
      "_________________________________________________________________\n",
      "Layer (type)                 Output Shape              Param #   \n",
      "=================================================================\n",
      "lstm_36 (LSTM)               (None, 100, 50)           10400     \n",
      "_________________________________________________________________\n",
      "dropout_14 (Dropout)         (None, 100, 50)           0         \n",
      "_________________________________________________________________\n",
      "lstm_37 (LSTM)               (None, 50)                20200     \n",
      "_________________________________________________________________\n",
      "dense_14 (Dense)             (None, 1)                 51        \n",
      "=================================================================\n",
      "Total params: 30,651\n",
      "Trainable params: 30,651\n",
      "Non-trainable params: 0\n",
      "_________________________________________________________________\n"
     ]
    }
   ],
   "source": [
    "model = Sequential()\n",
    "\n",
    "model.add(LSTM(50,input_shape=(100,1),return_sequences = True))\n",
    "model.add(Dropout(0.25))\n",
    "model.add(LSTM(50))\n",
    "model.add(Dense(1))\n",
    "\n",
    "model.summary()"
   ]
  },
  {
   "cell_type": "code",
   "execution_count": 259,
   "metadata": {
    "ExecuteTime": {
     "end_time": "2021-05-15T11:10:00.358532Z",
     "start_time": "2021-05-15T11:10:00.340582Z"
    }
   },
   "outputs": [],
   "source": [
    "adam = Adam(learning_rate = 1e-9)\n",
    "\n",
    "model.compile(optimizer='adam',\n",
    "             loss='mean_squared_error')"
   ]
  },
  {
   "cell_type": "code",
   "execution_count": 260,
   "metadata": {
    "ExecuteTime": {
     "end_time": "2021-05-15T11:10:19.145399Z",
     "start_time": "2021-05-15T11:10:02.363842Z"
    },
    "scrolled": true
   },
   "outputs": [
    {
     "name": "stdout",
     "output_type": "stream",
     "text": [
      "Epoch 1/10\n",
      "24/24 - 2s - loss: 0.0078 - val_loss: 0.0302\n",
      "Epoch 2/10\n",
      "24/24 - 1s - loss: 9.7580e-04 - val_loss: 0.0073\n",
      "Epoch 3/10\n",
      "24/24 - 1s - loss: 4.9115e-04 - val_loss: 0.0022\n",
      "Epoch 4/10\n",
      "24/24 - 1s - loss: 4.1740e-04 - val_loss: 0.0017\n",
      "Epoch 5/10\n",
      "24/24 - 1s - loss: 4.1071e-04 - val_loss: 0.0021\n",
      "Epoch 6/10\n",
      "24/24 - 1s - loss: 4.1918e-04 - val_loss: 0.0023\n",
      "Epoch 7/10\n",
      "24/24 - 1s - loss: 4.3731e-04 - val_loss: 0.0032\n",
      "Epoch 8/10\n",
      "24/24 - 1s - loss: 4.2195e-04 - val_loss: 0.0024\n",
      "Epoch 9/10\n",
      "24/24 - 1s - loss: 3.7616e-04 - val_loss: 0.0018\n",
      "Epoch 10/10\n",
      "24/24 - 1s - loss: 3.7902e-04 - val_loss: 0.0023\n"
     ]
    }
   ],
   "source": [
    "result = model.fit(X_train,y_train,\n",
    "                  epochs=10,\n",
    "                  batch_size=32,\n",
    "                  verbose = 2,\n",
    "                  validation_data = (X_test,y_test))"
   ]
  },
  {
   "cell_type": "code",
   "execution_count": 261,
   "metadata": {
    "ExecuteTime": {
     "end_time": "2021-05-15T11:10:21.149968Z",
     "start_time": "2021-05-15T11:10:20.324577Z"
    }
   },
   "outputs": [
    {
     "data": {
      "text/plain": [
       "<matplotlib.legend.Legend at 0x2358b505130>"
      ]
     },
     "execution_count": 261,
     "metadata": {},
     "output_type": "execute_result"
    },
    {
     "data": {
      "image/png": "[encoded data removed]",
      "text/plain": [
       "<Figure size 432x288 with 1 Axes>"
      ]
     },
     "metadata": {
      "needs_background": "light"
     },
     "output_type": "display_data"
    }
   ],
   "source": [
    "plt.plot(result.history['val_loss'])\n",
    "plt.plot(result.history['loss'])\n",
    "plt.legend(['test','train'])"
   ]
  },
  {
   "cell_type": "code",
   "execution_count": 262,
   "metadata": {
    "ExecuteTime": {
     "end_time": "2021-05-15T11:10:34.670528Z",
     "start_time": "2021-05-15T11:10:33.407192Z"
    }
   },
   "outputs": [],
   "source": [
    "pred_train = model.predict(X_train)\n",
    "pred_test = model.predict(X_test)"
   ]
  },
  {
   "cell_type": "code",
   "execution_count": 263,
   "metadata": {
    "ExecuteTime": {
     "end_time": "2021-05-15T11:10:34.686510Z",
     "start_time": "2021-05-15T11:10:34.672528Z"
    }
   },
   "outputs": [
    {
     "data": {
      "text/plain": [
       "array([0.07697523], dtype=float32)"
      ]
     },
     "execution_count": 263,
     "metadata": {},
     "output_type": "execute_result"
    }
   ],
   "source": [
    "pred_train[0]"
   ]
  },
  {
   "cell_type": "code",
   "execution_count": 264,
   "metadata": {
    "ExecuteTime": {
     "end_time": "2021-05-15T11:10:44.712624Z",
     "start_time": "2021-05-15T11:10:44.697664Z"
    }
   },
   "outputs": [
    {
     "data": {
      "text/plain": [
       "0.07124244867435531"
      ]
     },
     "execution_count": 264,
     "metadata": {},
     "output_type": "execute_result"
    }
   ],
   "source": [
    "y_train[0]"
   ]
  },
  {
   "cell_type": "code",
   "execution_count": 265,
   "metadata": {
    "ExecuteTime": {
     "end_time": "2021-05-15T11:10:48.302067Z",
     "start_time": "2021-05-15T11:10:48.296135Z"
    }
   },
   "outputs": [],
   "source": [
    "train_pred = mn.inverse_transform(pred_train)\n",
    "test_pred = mn.inverse_transform(pred_test)"
   ]
  },
  {
   "cell_type": "code",
   "execution_count": 266,
   "metadata": {
    "ExecuteTime": {
     "end_time": "2021-05-15T11:10:51.687274Z",
     "start_time": "2021-05-15T11:10:51.681306Z"
    }
   },
   "outputs": [],
   "source": [
    "y_train = mn.inverse_transform(y_train.reshape(1,-1))\n",
    "y_test = mn.inverse_transform(y_test.reshape(1,-1))"
   ]
  },
  {
   "cell_type": "code",
   "execution_count": 268,
   "metadata": {
    "ExecuteTime": {
     "end_time": "2021-05-15T11:11:03.084960Z",
     "start_time": "2021-05-15T11:11:03.067009Z"
    }
   },
   "outputs": [
    {
     "data": {
      "text/plain": [
       "30.924133296019534"
      ]
     },
     "execution_count": 268,
     "metadata": {},
     "output_type": "execute_result"
    }
   ],
   "source": [
    "math.sqrt(mean_squared_error(y_train,train_pred.T))"
   ]
  },
  {
   "cell_type": "code",
   "execution_count": 269,
   "metadata": {
    "ExecuteTime": {
     "end_time": "2021-05-15T11:11:09.386006Z",
     "start_time": "2021-05-15T11:11:09.366060Z"
    }
   },
   "outputs": [
    {
     "data": {
      "text/plain": [
       "81.79111851539955"
      ]
     },
     "execution_count": 269,
     "metadata": {},
     "output_type": "execute_result"
    }
   ],
   "source": [
    "math.sqrt(mean_squared_error(y_test,test_pred.T))"
   ]
  },
  {
   "cell_type": "code",
   "execution_count": 270,
   "metadata": {
    "ExecuteTime": {
     "end_time": "2021-05-15T11:11:13.005631Z",
     "start_time": "2021-05-15T11:11:12.884924Z"
    }
   },
   "outputs": [
    {
     "data": {
      "text/plain": [
       "[<matplotlib.lines.Line2D at 0x2356e5809a0>]"
      ]
     },
     "execution_count": 270,
     "metadata": {},
     "output_type": "execute_result"
    },
    {
     "data": {
      "image/png": "[encoded data removed]",
      "text/plain": [
       "<Figure size 432x288 with 1 Axes>"
      ]
     },
     "metadata": {
      "needs_background": "light"
     },
     "output_type": "display_data"
    }
   ],
   "source": [
    "plt.title('Before Prediction')\n",
    "plt.plot(df1)"
   ]
  },
  {
   "cell_type": "code",
   "execution_count": 88,
   "metadata": {
    "ExecuteTime": {
     "end_time": "2021-05-15T10:22:40.250457Z",
     "start_time": "2021-05-15T10:22:40.246437Z"
    }
   },
   "outputs": [
    {
     "data": {
      "text/plain": [
       "array([[0.02872133, 0.02281464, 0.02374359, ..., 0.069665  , 0.07107302,\n",
       "        0.0701616 ],\n",
       "       [0.02281464, 0.02374359, 0.01996354, ..., 0.07107302, 0.0701616 ,\n",
       "        0.07124245],\n",
       "       [0.02374359, 0.01996354, 0.02370269, ..., 0.0701616 , 0.07124245,\n",
       "        0.0698578 ],\n",
       "       ...,\n",
       "       [0.62867342, 0.61892827, 0.61057945, ..., 0.97614541, 0.94098573,\n",
       "        0.92831353],\n",
       "       [0.61892827, 0.61057945, 0.61545203, ..., 0.94098573, 0.92831353,\n",
       "        0.88752761],\n",
       "       [0.61057945, 0.61545203, 0.607074  , ..., 0.92831353, 0.88752761,\n",
       "        0.90434793]])"
      ]
     },
     "execution_count": 88,
     "metadata": {},
     "output_type": "execute_result"
    }
   ],
   "source": [
    "X"
   ]
  },
  {
   "cell_type": "code",
   "execution_count": 289,
   "metadata": {
    "ExecuteTime": {
     "end_time": "2021-05-15T11:20:41.637844Z",
     "start_time": "2021-05-15T11:20:41.581521Z"
    }
   },
   "outputs": [],
   "source": [
    "pred_f = model.predict(X[-1].reshape(1,100,1))"
   ]
  },
  {
   "cell_type": "code",
   "execution_count": 290,
   "metadata": {
    "ExecuteTime": {
     "end_time": "2021-05-15T11:20:43.823493Z",
     "start_time": "2021-05-15T11:20:43.817509Z"
    }
   },
   "outputs": [
    {
     "data": {
      "text/plain": [
       "array([[0.89545226]], dtype=float32)"
      ]
     },
     "execution_count": 290,
     "metadata": {},
     "output_type": "execute_result"
    }
   ],
   "source": [
    "pred_f"
   ]
  },
  {
   "cell_type": "code",
   "execution_count": 93,
   "metadata": {
    "ExecuteTime": {
     "end_time": "2021-05-15T10:24:13.272331Z",
     "start_time": "2021-05-15T10:24:13.255376Z"
    }
   },
   "outputs": [
    {
     "data": {
      "text/plain": [
       "array([0.07124245, 0.0698578 , 0.07772169, ..., 0.88752761, 0.90434793,\n",
       "       0.93317442])"
      ]
     },
     "execution_count": 93,
     "metadata": {},
     "output_type": "execute_result"
    }
   ],
   "source": [
    "y"
   ]
  },
  {
   "cell_type": "code",
   "execution_count": 295,
   "metadata": {
    "ExecuteTime": {
     "end_time": "2021-05-15T11:22:26.194853Z",
     "start_time": "2021-05-15T11:22:26.130102Z"
    }
   },
   "outputs": [
    {
     "data": {
      "text/plain": [
       "array([[0.88884366]], dtype=float32)"
      ]
     },
     "execution_count": 295,
     "metadata": {},
     "output_type": "execute_result"
    }
   ],
   "source": [
    "model.predict((np.append(X[-1,-100:-4],np.array([0.89545226,0.8950572,0.8955775,0.8929034]))).reshape(1,100,1))"
   ]
  },
  {
   "cell_type": "code",
   "execution_count": 273,
   "metadata": {
    "ExecuteTime": {
     "end_time": "2021-05-15T11:11:36.361041Z",
     "start_time": "2021-05-15T11:11:34.554995Z"
    }
   },
   "outputs": [
    {
     "name": "stdout",
     "output_type": "stream",
     "text": [
      "[[0.8950572]]\n",
      "[[0.8955775]]\n",
      "[[0.8929034]]\n",
      "[[0.88884366]]\n",
      "[[0.8815474]]\n",
      "[[0.87485886]]\n",
      "[[0.8691262]]\n",
      "[[0.86366683]]\n",
      "[[0.85699505]]\n",
      "[[0.8501911]]\n",
      "[[0.842661]]\n",
      "[[0.83606106]]\n",
      "[[0.8306317]]\n",
      "[[0.82493323]]\n",
      "[[0.8193676]]\n",
      "[[0.8141686]]\n",
      "[[0.80882627]]\n",
      "[[0.80353355]]\n",
      "[[0.7982784]]\n",
      "[[0.79311496]]\n",
      "[[0.78802556]]\n",
      "[[0.78304166]]\n",
      "[[0.7781199]]\n",
      "[[0.77327055]]\n",
      "[[0.7684943]]\n",
      "[[0.7637881]]\n",
      "[[0.7591502]]\n",
      "[[0.7545749]]\n",
      "[[0.7500696]]\n",
      "[[0.7456115]]\n",
      "[[0.7412062]]\n",
      "[[0.7368633]]\n",
      "[[0.73258376]]\n",
      "[[0.7283636]]\n",
      "[[0.72420454]]\n",
      "[[0.72010404]]\n",
      "[[0.71606123]]\n",
      "[[0.7120731]]\n",
      "[[0.70813906]]\n",
      "[[0.70425767]]\n",
      "[[0.70042974]]\n",
      "[[0.6966521]]\n",
      "[[0.692923]]\n",
      "[[0.6892424]]\n",
      "[[0.6856092]]\n",
      "[[0.6820219]]\n",
      "[[0.6784799]]\n",
      "[[0.6749822]]\n"
     ]
    }
   ],
   "source": [
    "a=[pred_f]\n",
    "X_a = X[-1,:99]\n",
    "for i in range(2,50):\n",
    "    X_f = (np.append(X_a,np.array(a))).reshape(1,100,1)\n",
    "    X_a = X[-1,-100:-i]\n",
    "    pred_f = model.predict(X_f)\n",
    "    a.append(pred_f)\n",
    "    print(a[-1])"
   ]
  },
  {
   "cell_type": "code",
   "execution_count": 276,
   "metadata": {
    "ExecuteTime": {
     "end_time": "2021-05-15T11:12:04.311794Z",
     "start_time": "2021-05-15T11:12:04.306808Z"
    }
   },
   "outputs": [],
   "source": [
    "final_1 = np.array(a).reshape(49)"
   ]
  },
  {
   "cell_type": "code",
   "execution_count": 277,
   "metadata": {
    "ExecuteTime": {
     "end_time": "2021-05-15T11:12:04.765561Z",
     "start_time": "2021-05-15T11:12:04.753623Z"
    }
   },
   "outputs": [],
   "source": [
    "final = mn.inverse_transform(final_1.reshape(-1,1))"
   ]
  },
  {
   "cell_type": "code",
   "execution_count": 280,
   "metadata": {
    "ExecuteTime": {
     "end_time": "2021-05-15T11:12:24.627609Z",
     "start_time": "2021-05-15T11:12:24.501460Z"
    }
   },
   "outputs": [
    {
     "data": {
      "text/plain": [
       "[<matplotlib.lines.Line2D at 0x2355fe41220>]"
      ]
     },
     "execution_count": 280,
     "metadata": {},
     "output_type": "execute_result"
    },
    {
     "data": {
      "image/png": "[encoded data removed]",
      "text/plain": [
       "<Figure size 432x288 with 1 Axes>"
      ]
     },
     "metadata": {
      "needs_background": "light"
     },
     "output_type": "display_data"
    }
   ],
   "source": [
    "day_new=np.arange(1,102)\n",
    "day_pred=np.arange(102,151)\n",
    "\n",
    "plt.plot(day_new,df1[1158:])\n",
    "plt.plot(day_pred,pd.Series(final.flatten()))"
   ]
  },
  {
   "cell_type": "code",
   "execution_count": null,
   "metadata": {},
   "outputs": [],
   "source": []
  }
 ],
 "metadata": {
  "kernelspec": {
   "display_name": "Python 3",
   "language": "python",
   "name": "python3"
  },
  "language_info": {
   "codemirror_mode": {
    "name": "ipython",
    "version": 3
   },
   "file_extension": ".py",
   "mimetype": "text/x-python",
   "name": "python",
   "nbconvert_exporter": "python",
   "pygments_lexer": "ipython3",
   "version": "3.8.3"
  }
 },
 "nbformat": 4,
 "nbformat_minor": 4
}
